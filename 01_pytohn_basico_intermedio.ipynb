{
 "cells": [
  {
   "attachments": {},
   "cell_type": "markdown",
   "metadata": {},
   "source": [
    "\n",
    "## Porque python?\n",
    "\n",
    "Python es un gran lenguaje de programacion para adentrarce al mundo de la automatizacion de tareas, manejo de grandes conjuntos de informacion, Machine learnig entre otras, se destaca por su facilidad para leer su codigo ya que esto hace parte de su filosofia, hay una gran comunidad al rededor de este lenguaje de programacion por lo mismo infinidad de herramientas que pueden ayudarte en tus tareas o proyectos\n",
    "\n",
    "## Areas de uso de python\n",
    "- Machine learnign\n",
    "- Automatizacion de tareas\n",
    "- Inteligencia artificial\n",
    "- Manipulacion y analisis de datos"
   ]
  },
  {
   "attachments": {},
   "cell_type": "markdown",
   "metadata": {},
   "source": [
    "### Funciones integrales \n",
    "Son funciones que ya python trae con sigo\n",
    "- input(): Es un campo para que el usuario ingrese informacion\n",
    "- print(): La consola muestra la informacion en pantalla\n",
    "- float(): Indico que la informacion que se registro es un numero decimal\n",
    "- int(): Indico que la informacion que se registro es un objeto de tipo numerico\n",
    "- str(): Indico que la infromacion que se registro es un obejto de tipo texto\n",
    "- round(): Indico que el numero decimal lo voy a reducir a los numeros indicados\n",
    "- len(): Cantidad de caracteres que componen el texto"
   ]
  },
  {
   "cell_type": "code",
   "execution_count": 23,
   "metadata": {},
   "outputs": [
    {
     "name": "stdout",
     "output_type": "stream",
     "text": [
      "la variable nombre es de tipo: <class 'str'>\n",
      "la variable numero es de tipo: <class 'int'>\n",
      "la variable decimal es de tipo: <class 'float'>\n",
      "la variable booleano es de tipo: <class 'bool'>\n",
      "la variable sin_tipo es de tipo: <class 'NoneType'>\n",
      "la variable complejo es de tipo: <class 'complex'>\n"
     ]
    }
   ],
   "source": [
    "# Las variables son espacios en la memoria donde se guarda informacion\n",
    "\n",
    "nombre = \"Aureliano buendia\"\n",
    "numero = 1997115\n",
    "decimal = 3.14\n",
    "booleano = True\n",
    "sin_tipo = None\n",
    "complejo = 3j\n",
    "\n",
    "\n",
    "# Que tipo de variables existen int, float, complex, str, bool, NoneType\n",
    "print(f'La variable nombre es de tipo: {type(nombre)}') #str\n",
    "print(f'La variable numero es de tipo: {type(numero)}') #int\n",
    "print(f'La variable decimal es de tipo: {type(decimal)}') #float\n",
    "print(f'La variable booleano es de tipo: {type(booleano)}') #bool\n",
    "print(f'La variable sin_tipo es de tipo: {type(sin_tipo)}') #NoneType\n",
    "print(f'La variable complejo es de tipo: {type(complejo)}') #complex"
   ]
  },
  {
   "cell_type": "code",
   "execution_count": 1,
   "metadata": {},
   "outputs": [],
   "source": [
    "numero_decimal = float(input('Ingresa un numero decimal: '))\n",
    "print(numero_decimal)\n",
    "print(f'La variable numero decimal es: {type(numero_decimal)}') #float\n",
    "\n",
    "# Round(numero,cantidad decimales)\n",
    "numero_reducido = round(numero_decimal,2)\n",
    "print(numero_reducido)"
   ]
  },
  {
   "attachments": {},
   "cell_type": "markdown",
   "metadata": {},
   "source": [
    "### Operaciones de texto\n",
    "\n",
    "- Variable.upper() = Los caracteres los pone todos en mayuscula\n",
    "- Variable.lower() = Los caractes los pone todos en minuscula\n",
    "- Variable.capitalize() = La primera letra en mayuscula\n",
    "- Variable.title() = La primera letra de cada palabra la pone en mayuscula\n",
    "- Variable.strip() = Elimina espacios en el inicio y el final de una palabra\n",
    "- Variable.replace(\"a\",\"b\") = Remplaza el parametro \"a\" por \"b\"\n",
    "\n",
    "### SLICING\n",
    "\n",
    "- variable[2] = Me devuelve el caracter del indice 2\n",
    "- variable[~start~ ~stop~ ~step~] = Variable[::-1]\n",
    "\n"
   ]
  },
  {
   "cell_type": "code",
   "execution_count": 1,
   "metadata": {},
   "outputs": [
    {
     "name": "stdout",
     "output_type": "stream",
     "text": [
      "Mayuscula:  AURELIANO BUENDIA\n",
      "minuscula:  aureliano buendia\n",
      "capitalize:  Aureliano buendia\n",
      "title:  Aureliano Buendia\n",
      "strip:  aureliano buendia\n",
      "replace:  @ureli@no buendi@\n",
      "r\n",
      "urelia\n"
     ]
    }
   ],
   "source": [
    "name = \"aureliano buendia\"\n",
    "name_upper = name.upper()\n",
    "print(\"Mayuscula: \", name_upper)\n",
    "name_lower = name.lower()\n",
    "print(\"minuscula: \", name_lower)\n",
    "name_capitalize = name.capitalize()\n",
    "print(\"capitalize: \", name_capitalize)\n",
    "name_title = name.title()\n",
    "print(\"title: \", name_title)\n",
    "name_strip = name.strip()\n",
    "print(\"strip: \", name_strip)\n",
    "name_replace = name.replace(\"a\",\"@\")\n",
    "print(\"replace: \", name_replace)\n",
    "\n",
    "print(name[2])\n",
    "print(name[1:7])\n"
   ]
  },
  {
   "attachments": {},
   "cell_type": "markdown",
   "metadata": {},
   "source": [
    "## Ciclos while y for\n",
    "Los bules while y for son una forma de iterar algo repetidamente, el while se repite hasta que se cumple una condicion o se rompe el ciclo, el bucle for se itera por una lista hasta que la lista termina, hay palabras claves como:\n",
    "- *Break* que termina una iteracion cuando coincide con el valor buscado.\n",
    "- *continue* se salta este intervalo y continua con la iteracion"
   ]
  },
  {
   "cell_type": "code",
   "execution_count": 1,
   "metadata": {},
   "outputs": [
    {
     "name": "stdout",
     "output_type": "stream",
     "text": [
      "0\n",
      "1\n",
      "2\n",
      "3\n",
      "4\n",
      "5\n",
      "6\n",
      "7\n",
      "8\n",
      "9\n",
      "10\n",
      "El bucle termino\n",
      "[2, 4, 6, 8, 10]\n"
     ]
    }
   ],
   "source": [
    "# BUCLE while\n",
    "\n",
    "numero = 0\n",
    "lista_pares = []\n",
    "while numero <= 10:\n",
    "    print(numero)\n",
    "    # Se agrega 1 a la variable de control para evitar iteraciones infinitas\n",
    "    numero += 1\n",
    "    if numero % 2 == 0:\n",
    "        lista_pares.append(numero)\n",
    "else:\n",
    "    print('El bucle termino')\n",
    "\n",
    "print(lista_pares)\n",
    "    \n"
   ]
  },
  {
   "cell_type": "code",
   "execution_count": 21,
   "metadata": {},
   "outputs": [
    {
     "name": "stdout",
     "output_type": "stream",
     "text": [
      "Ciclo del numero 3\n",
      "0\n",
      "1\n",
      "2\n",
      "\n",
      " Ciclo de la cadena de texto: Aureliano buendia\n",
      "\n",
      " Ciclo de una lista\n",
      "Lista sin la \"a\": ['A', 'u', 'r', 'e', 'l', 'i', 'n', 'o', ' ', 'b', 'u', 'e', 'n', 'd', 'i'] \n",
      "\n",
      "Lista de solo \"a\": ['a', 'a'] \n",
      "\n",
      "Solo el nombre: ['A', 'u', 'r', 'e', 'l', 'i', 'a', 'n', 'o', ' '] \n",
      "\n",
      "Nombre sin la \"a\": Aurelino buendi \n",
      "\n",
      "Lista de solo \"a\": aa \n",
      "\n",
      "Solo el nombre: Aureliano  \n",
      "\n"
     ]
    }
   ],
   "source": [
    "# BUCLE for recorre una lista de inicio a fin\n",
    "\n",
    "#Creacion de variables iniciales \n",
    "lista1 = [1,2,3,4,5]\n",
    "numero1 = 3\n",
    "name = \"Aureliano buendia\"\n",
    "# Cambio del tipo de objeto de str a list\n",
    "name_lista = list(name)\n",
    "\n",
    "# Ciclo de un numero con range si el numero es 3 este empezara desde 0 y terminara en el numero -1 osea en 2\n",
    "# (0,1,2) el numero final es excluyente\n",
    "print(f'Ciclo del numero {numero1}')\n",
    "for i in range(numero1):\n",
    "    print(i)\n",
    "\n",
    "# Ciclo de recorrido de una cadena de texto\n",
    "# Se guarda en una lista los caracteres recorridos de una cadena de texto\n",
    "# hasta cumplir una condicion BREAK\n",
    "print(f'\\n Ciclo de la cadena de texto: {name}')\n",
    "onli_name = []\n",
    "for i in name:\n",
    "    onli_name.append(i)\n",
    "    if i == \" \":\n",
    "        break\n",
    "\n",
    "# Ciclo for de una lista, se busca crear una lista saltandose ciertos parametros\n",
    "# y aislandoles en una variable aparte\n",
    "print(f'\\n Ciclo de una lista')\n",
    "lista_a = []\n",
    "lista_sin_a = []\n",
    "for i in name_lista:\n",
    "    if i == \"a\":\n",
    "        lista_a.append(i)\n",
    "        continue\n",
    "    else:\n",
    "        lista_sin_a.append(i)\n",
    "\n",
    "# las trasnformaciones anteriores han sido guardas en listas\n",
    "print(f'Lista sin la \"a\": {lista_sin_a} \\n')\n",
    "print(f'Lista de solo \"a\": {lista_a} \\n')\n",
    "print(f'Solo el nombre: {onli_name} \\n')\n",
    "\n",
    "# 1) Imprimir las variables /onli_name , lista_a , lista_sin_a / de forma legible en forma str\n",
    "\n",
    "# Tarea 1: funcion join importante cada elemento debe de ser un str y hay que definir el limitador\n",
    "# El delimiter es \"\" vacio ya que quiero que las letras esten juntas si fueran palabras las podria separar por \" \"\n",
    "delimiter = \"\"\n",
    "print(f'Nombre sin la \"a\": {delimiter.join(lista_sin_a)} \\n')\n",
    "print(f'Lista de solo \"a\": {delimiter.join(lista_a)} \\n')\n",
    "print(f'Solo el nombre: {delimiter.join(onli_name)} \\n')"
   ]
  },
  {
   "attachments": {},
   "cell_type": "markdown",
   "metadata": {},
   "source": [
    "### Diccionarios, listas y tuplas\n",
    "\n",
    "Las listas los diccionarios y las tuplas son una forma de almacenar informacion, podemos combinar algunas de estas entre si, por ejemplo podemos tener una lista con tuplas dentro de ella, pero no una tupla con listas dentro de ella, cada uno de estos elementos tienen ciertas caracteristicas, por ejemplo, inmutabilidad inalterabilidad entre otras"
   ]
  },
  {
   "cell_type": "code",
   "execution_count": 22,
   "metadata": {},
   "outputs": [
    {
     "name": "stdout",
     "output_type": "stream",
     "text": [
      "dict_values([57, 51, 1])\n",
      "dict_keys(['colombia', 'peru', 'EE.UU'])\n",
      "colombia : 57\n",
      "peru : 51\n",
      "EE.UU : 1\n"
     ]
    }
   ],
   "source": [
    "# listas se rige por la norma de un indice\n",
    "lista1 = [1,2,3,4,5,6]\n",
    "# Tuplas se rige por la norma de un indice\n",
    "tupla1  = (9,8,7,6,5,4)\n",
    "\n",
    "# diccionarios se rige por llave y valores\n",
    "# diccionario{}\n",
    "diccionarion2 = dict()\n",
    "# {llave : Valor}\n",
    "\n",
    "#Diccionarion 2\n",
    "paises_dic = {\"colombia\" : 57, \"peru\" : 51, \"EE.UU\" : 1}\n",
    "print(paises_dic.values()) # valores\n",
    "print(paises_dic.keys()) # Llaves\n",
    "for key,values in paises_dic.items(): # llaves y valores\n",
    "    print(key, \":\", values)"
   ]
  },
  {
   "attachments": {},
   "cell_type": "markdown",
   "metadata": {},
   "source": [
    "Los dicionarion y list comprehension son una forma reducida de crear listas y diccionarios\n",
    "\n",
    "### dic comprehension\n",
    "diccionaro = {key:value for value in iterable if condicion} la condicion no es obligatoria"
   ]
  },
  {
   "cell_type": "code",
   "execution_count": null,
   "metadata": {},
   "outputs": [
    {
     "name": "stdout",
     "output_type": "stream",
     "text": [
      "{1: 1, 2: 8, 3: 27, 4: 64, 5: 125, 6: 216, 7: 343, 8: 512, 9: 729, 10: 1000}\n"
     ]
    }
   ],
   "source": [
    "dic = {x:x**3 for x in range(1,11)}\n",
    "print(dic)"
   ]
  },
  {
   "attachments": {},
   "cell_type": "markdown",
   "metadata": {},
   "source": [
    "### list comprehension\n",
    "lista = [elemento for elemento in iterable if condicion] la ocndicion no es obligaroia"
   ]
  },
  {
   "cell_type": "code",
   "execution_count": null,
   "metadata": {},
   "outputs": [
    {
     "name": "stdout",
     "output_type": "stream",
     "text": [
      "[2, 4, 6, 8, 10]\n"
     ]
    }
   ],
   "source": [
    "lista2 = [i for i in range(1,11) if i%2 ==0]\n",
    "print(lista2)"
   ]
  },
  {
   "attachments": {},
   "cell_type": "markdown",
   "metadata": {},
   "source": [
    "### FUNCIONES\n",
    "las funciones son bloques de codigo que podemos reutilizar las veces que las creamos necesarias, estas pueden recibir varios parametros y devolver diferentes resultados\n",
    "\n",
    "def mi_fun(argumentos):\n",
    "    *cuerpo de la funcion"
   ]
  },
  {
   "cell_type": "code",
   "execution_count": null,
   "metadata": {},
   "outputs": [
    {
     "name": "stdout",
     "output_type": "stream",
     "text": [
      "que numero quieres su doble: 10\n",
      "El doble de 10 es: 20\n",
      "[2, 4, 4, 66, 8, 10, 12, 14, 16, 18]\n"
     ]
    }
   ],
   "source": [
    "def doble(x):\n",
    "    y = x*2\n",
    "    return(y)\n",
    "\n",
    "numero = int(input('Que numero quieres su doble: '))\n",
    "\n",
    "print(f'El doble de {numero} es: {doble(numero)}')\n",
    "\n",
    "\n",
    "lista = [1,2,2,33,4,5,6,7,8,9]\n",
    "\n",
    "#le digo que funcion quiero que aplique a un elemento iterable\n",
    "doble_lista = list(map(doble,lista))\n",
    "\n",
    "print(doble_lista)"
   ]
  },
  {
   "attachments": {},
   "cell_type": "markdown",
   "metadata": {},
   "source": [
    "### Funciones anonimas / lambda\n",
    "\n",
    "Estan pensadas para funciones simples que se ejecutaran una sola ves a lo largo del codigo, esto quiere decir tambien que no ocuparan espacio en memoria ya que solo seran creadas en el lugar, Son funciones que no estan almacenadas en archivos de programas si no que se asocian a una variable, estan definidas con la palabre clave lambda, estas aceptan multiples entradas y re tornan una sola salida, solo pueden contener una unica instruccion ejecutable, no usasn la palabre clave return ya que esto es implicito\n",
    "\n",
    "*lambda arg : expresion\n",
    "\n",
    "### Funciones de orden superiror / map, filter, reduce\n",
    "\n",
    "Las funciones de orden superior tienen como caracteristica que reciven una funcions como parametro o devuelve una funcion como resultado, como ejemplo de ellas tenemos a map, filter, reduce\n",
    "\n",
    "- map(): aplica una funcion a cada elemento = map(lamnda(x:x*2, lista))\n",
    "- filter(): filtra segun una condicion = filter(lambda(x:x > 10, lista))\n",
    "- reduce(): reduce a un solo valor =  reduce(lambda(x,y: x+y, lista))"
   ]
  },
  {
   "cell_type": "code",
   "execution_count": null,
   "metadata": {},
   "outputs": [],
   "source": [
    "# Para no tener que crear una funcion lo podemos hacer en una lambda\n",
    "def palindromo(palabra):\n",
    "    if palabra == palabra[::-1]:\n",
    "        print(\"Es palindromo\")\n",
    "    else:\n",
    "        print(\"No es palindtromo\")\n",
    "\n",
    "palabra = str(input(\"Ingresa la palabra que deseas saber\"))\n",
    "palindromo(palabra)\n",
    "\n",
    "    \n"
   ]
  },
  {
   "cell_type": "code",
   "execution_count": null,
   "metadata": {},
   "outputs": [],
   "source": [
    "# con lambda\n",
    "palindromo = lambda x: x == x[::-1]\n",
    "palabra = str(input(\"Ingresa la palabra que deseas saber\"))\n",
    "\n",
    "if palindromo(palabra):\n",
    "    print(\"Es palindromo\")\n",
    "else:\n",
    "    print(\"No es palindromo\")"
   ]
  },
  {
   "cell_type": "code",
   "execution_count": 11,
   "metadata": {},
   "outputs": [
    {
     "name": "stdout",
     "output_type": "stream",
     "text": [
      "\n",
      " lista ordenada [('carlos', 18), ('miguel', 20), ('Manuel', 23), ('camila', 23), ('daniela', 26)]\n",
      "\n",
      " [46, 40, 46, 52, 36]\n",
      "\n",
      " [('daniela', 26)]\n"
     ]
    }
   ],
   "source": [
    "# Tenemos una lista de tuplas ordenarala de mayor a menor, la edad multiplicala *2, devolver los mayores de 24\n",
    "lista_estudiantes = [(\"Manuel\",23),\n",
    "                     (\"miguel\",20),\n",
    "                     (\"camila\",23),\n",
    "                     (\"daniela\",26),\n",
    "                     (\"carlos\",18)]\n",
    "\n",
    "# ordenamos la lsita por las edades\n",
    "lista_ordenada = sorted(lista_estudiantes, key=lambda x: x[1])\n",
    "print(\"\\n\",\"lista ordenada\", lista_ordenada)\n",
    "\n",
    "lista_multiplicada = list(map(lambda x: x[1]*2, lista_estudiantes))\n",
    "print(\"\\n\", \"lista multiplicada\", lista_multiplicada)\n",
    "\n",
    "lista_filtrada = list(filter(lambda x: x[1]>24, lista_estudiantes))\n",
    "print(\"\\n\", \"lista filtrada\" ,lista_filtrada)"
   ]
  },
  {
   "attachments": {},
   "cell_type": "markdown",
   "metadata": {},
   "source": [
    "## Entornos virtuales\n",
    "Son una solucion para el problema de la version de diferentes independencias, si un programa requiere una version en especifica de un paquete (paquete1.2) y otro programa usa el mismo paquete pero con una version diferente (paquete2.5) tener las una version o otra haria que uno de los 2 programas que tenemos instalados entren en conflicto. \n",
    " \n",
    "Los entornos virtualees vienen a ser una parte aislada de nuetro sistema que tiene una version en especificas de python permitiendo a los usuarios instalar y actualizar paquetes de la distribucion de python sin interferir con el comportamiento de otras aplicaciones\n",
    "\n",
    "### Instalacion e inicializacion de un entorno virtual:\n",
    "\n",
    "    1) Nos ubicamos en el directorio que guardara nuestro proyecto, una vez ahi ejecutamos el comando con la siguiente estructura ***python3 -m venv \"nombre-del-entorno\"*** python3 -m venv test-env\n",
    "        \n",
    "        - Si nos arroja algun error debemos investigar si tenemos el modulo venv instalado, lo hacemos con el comando **dpkg -l grep venv** deberiamos ver algo como **ii python3.12-venv** de no ser asi procedemos a instalarlo\n",
    "\n",
    "        - Reavisamos la version de python que tenemos **python3 --version** y procedemos a instalar el modulo venv, usamos **sudo apt update**, **sudo apt install python3.12-venv** Remplazamos 3.12 por nuestra version de python se es distita de 3.12\n",
    "\n",
    "    2) Activamos el entorno virtual con el comando **source test-env/bin/activate** recordar que test-env sera remplazado por el nombre que escogimos para nuestro entorno, deberiamos ver en nuestra consola (test-env)$usuario@usuario/ para desactivar el entorno virtual **deactivate**\n",
    "\n",
    "    3) Para poder instalar los paquete usamos el programa llamado **pip**\n",
    "        - Para instalar paquetes: **python -m pip install \"nombre_paquete\"** tambien se pueden instalar versiones especificas del programa ingresando despues del nombre del paquete == y el numero de version\n",
    "        **python -m pip install \"nombre_paquete2.5\"**\n",
    "\n",
    "        - Actualizar el paquete a la ultima version: **python -m pip install --upgrade \"nombre_paquete\"**\n",
    "\n",
    "        - Desinstalar paquetes: **python -m pip uninstall --upgrade \"nombre_paquete\"**\n",
    "\n",
    "        - Ver informacion de un paquete en particula: **python -m pip show \"nombre_paquete**\n",
    "\n",
    "        - Ver todos los paquetes instalados en el entorno virtual: python -m pip list\n",
    "\n",
    "        - Lista detallada de los paquetes instalados: python -m pip freeze una conveccion es guardar esta lista de la siguiente manera **python -m pip freeze > requirements.txt** esto crea una txt llamado requirements donde estaran los paquetes que hemos instalado\n",
    "\n",
    "        - Instalar una lista de paquetes: python -m pip install -r requirements.txt\n",
    "    \n",
    "\n",
    "\n"
   ]
  },
  {
   "attachments": {},
   "cell_type": "markdown",
   "metadata": {},
   "source": []
  }
 ],
 "metadata": {
  "kernelspec": {
   "display_name": "Python 3 (ipykernel)",
   "language": "python",
   "name": "python3"
  },
  "language_info": {
   "codemirror_mode": {
    "name": "ipython",
    "version": 3
   },
   "file_extension": ".py",
   "mimetype": "text/x-python",
   "name": "python",
   "nbconvert_exporter": "python",
   "pygments_lexer": "ipython3",
   "version": "3.6.9"
  }
 },
 "nbformat": 4,
 "nbformat_minor": 2
}
